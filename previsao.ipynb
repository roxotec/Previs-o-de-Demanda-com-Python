{
 "cells": [
  {
   "cell_type": "markdown",
   "id": "64e402ba",
   "metadata": {},
   "source": [
    "# Previsão de Demanda Logística com Python"
   ]
  },
  {
   "cell_type": "code",
   "execution_count": null,
   "id": "a5e74b4a",
   "metadata": {},
   "outputs": [],
   "source": [
    "import pandas as pd\n",
    "import matplotlib.pyplot as plt\n",
    "from sklearn.linear_model import LinearRegression\n",
    "import numpy as np"
   ]
  },
  {
   "cell_type": "code",
   "execution_count": null,
   "id": "8543a2ca",
   "metadata": {},
   "outputs": [],
   "source": [
    "# Carregando os dados\n",
    "df = pd.read_csv(\"dados.csv\")\n",
    "df"
   ]
  },
  {
   "cell_type": "code",
   "execution_count": null,
   "id": "f1a492dd",
   "metadata": {},
   "outputs": [],
   "source": [
    "# Preparar os dados para o modelo\n",
    "X = df[['semana']]\n",
    "y = df['pedidos']\n",
    "\n",
    "modelo = LinearRegression()\n",
    "modelo.fit(X, y)\n",
    "\n",
    "# Prever os próximos 4 períodos\n",
    "semanas_futuras = np.array([[8], [9], [10], [11]])\n",
    "previsoes = modelo.predict(semanas_futuras)\n",
    "\n",
    "# Exibir previsões\n",
    "previsoes"
   ]
  },
  {
   "cell_type": "code",
   "execution_count": null,
   "id": "43367a17",
   "metadata": {},
   "outputs": [],
   "source": [
    "# Visualização\n",
    "plt.scatter(df['semana'], df['pedidos'], label='Histórico')\n",
    "plt.plot(df['semana'], modelo.predict(X), color='green', label='Linha de tendência')\n",
    "plt.scatter(semanas_futuras, previsoes, color='red', label='Previsão')\n",
    "plt.xlabel('Semana')\n",
    "plt.ylabel('Pedidos')\n",
    "plt.title('Previsão de Demanda Logística')\n",
    "plt.legend()\n",
    "plt.grid(True)\n",
    "plt.show()"
   ]
  }
 ],
 "metadata": {},
 "nbformat": 4,
 "nbformat_minor": 5
}
